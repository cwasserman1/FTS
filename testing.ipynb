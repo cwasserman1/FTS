{
 "cells": [
  {
   "cell_type": "code",
   "execution_count": 193,
   "id": "f046dacb-7bdb-4a3a-aaef-d2fe8d9b3a2d",
   "metadata": {},
   "outputs": [],
   "source": [
    "import numpy as np\n",
    "import pandas as pd\n",
    "import yfinance as yf\n",
    "import matplotlib.pyplot as plt"
   ]
  },
  {
   "cell_type": "code",
   "execution_count": 194,
   "id": "48f59cc0-d851-4fa9-9997-5ac29a776718",
   "metadata": {},
   "outputs": [
    {
     "ename": "SyntaxError",
     "evalue": "unexpected EOF while parsing (<ipython-input-194-3a1d5ccc6eea>, line 54)",
     "output_type": "error",
     "traceback": [
      "\u001b[0;36m  File \u001b[0;32m\"<ipython-input-194-3a1d5ccc6eea>\"\u001b[0;36m, line \u001b[0;32m54\u001b[0m\n\u001b[0;31m    \u001b[0m\n\u001b[0m    ^\u001b[0m\n\u001b[0;31mSyntaxError\u001b[0m\u001b[0;31m:\u001b[0m unexpected EOF while parsing\n"
     ]
    }
   ],
   "source": [
    "class FTS_backtest:\n",
    "    def __init__(self):\n",
    "        self.portfolio = {}\n",
    "        self.start_date = None\n",
    "        self.end_date = None\n",
    "        self.current_date = None\n",
    "        self.invested = False\n",
    "        self.cash = 0\n",
    "    def add_stock(self,ticker):\n",
    "        \"\"\"adds stock ticker to portfolio\"\"\"\n",
    "        self.portfolio[ticker] = [yf.Ticker(ticker),0] # [Ticker Object, number of shares owned]\n",
    "    def set_cash(self,cash):\n",
    "        \"\"\"sets curent amount of cash in account\"\"\"\n",
    "        self.cash = cash\n",
    "    def set_start_date(self,date):\n",
    "        self.start_date = date\n",
    "        self.current_date = date\n",
    "    def get_basic_data(self,ticker,start_date = None,end_date = None): \n",
    "        \"\"\"returns basic stock data as a pd dataframe\n",
    "           dates must be string in format yyyy-mm-dd\n",
    "           chosen stock must be in portfolio\"\"\"\n",
    "        return self.portfolio[ticker][0].history(start = start_date,end = end_date)\n",
    "    def calculate_sharpe_ratio(self,ticker, risk_free_rate = 0, start_date = None, end_date = None):\n",
    "        \"\"\"\n",
    "        Returns Sharpe ratio for given stock ticker and dates,\n",
    "        Default Risk free rate is 0\n",
    "        \"\"\"\n",
    "        daily_return = myFTS.get_basic_data('MSFT')['Close'].pct_change(1)\n",
    "        mean_return = abs(daily_return.mean())\n",
    "        std = daily_return.std()\n",
    "        sharpe_ratio = (mean_return-risk_free_rate)/std\n",
    "        return sharpe_ratio*np.sqrt(253)\n",
    "    def calculate_sortino_ratio(self,ticker, risk_free_rate = 0, start_date = None, end_date = None):\n",
    "        pass\n",
    "    def set_holdings(self,tickers = [],weights = []):\n",
    "        \"\"\"\n",
    "        Sets current holdings to a certain percentage of portfolio at the current date\n",
    "        tickers and weights are both numpy arrays with each weight signaling pct of portfolio of corresponding ticker\n",
    "        tickers and weights must be the same size\n",
    "        Must not exceed 1\n",
    "        \"\"\"\n",
    "        invested_amount = 0\n",
    "        for i in range(len(tickers)):\n",
    "            cost = (weights[i]*self.cash) \n",
    "            num_shares = cost/self.portfolio[tickers[i]][0].history().T[self.current_date]['Close']\n",
    "            self.portfolio[tickers[i]][1] = num_shares\n",
    "            invested_amount += cost\n",
    "        self.cash-=invested_amount\n",
    "        \n",
    "        for j in range(len(tickers)):\n",
    "            print(f\"bought {num_shares} of {tickers[j]} at {self.portfolio[tickers[j]][0].history().T[self.current_date]['Close']}\")\n",
    "    def liquidate_all_holdings(self):\n",
    "        \n",
    "        \n",
    "        "
   ]
  },
  {
   "cell_type": "code",
   "execution_count": 190,
   "id": "5b028cc3-c8ba-4876-ba88-94a24cfc4538",
   "metadata": {},
   "outputs": [],
   "source": [
    "myFTS = FTS_backtest()"
   ]
  },
  {
   "cell_type": "code",
   "execution_count": 191,
   "id": "f2161aed-4daf-437f-a2a6-786519973c76",
   "metadata": {},
   "outputs": [],
   "source": [
    "myFTS.add_stock('MSFT')\n",
    "myFTS.add_stock('GOOG')\n",
    "myFTS.set_cash(10000)\n",
    "myFTS.set_start_date('2021-12-15')"
   ]
  },
  {
   "cell_type": "code",
   "execution_count": 192,
   "id": "5ffa18ba-56a7-48ea-b809-22fbd2101ff5",
   "metadata": {},
   "outputs": [
    {
     "name": "stdout",
     "output_type": "stream",
     "text": [
      "bought 1.696427595178037 of MSFT at 334.6499938964844\n",
      "bought 1.696427595178037 of GOOG at 2947.3701171875\n"
     ]
    }
   ],
   "source": [
    "myFTS.set_holdings(['MSFT','GOOG'],[.5,.5])"
   ]
  },
  {
   "cell_type": "code",
   "execution_count": null,
   "id": "d08723b9-a869-4753-be08-227bdf63d371",
   "metadata": {},
   "outputs": [],
   "source": []
  },
  {
   "cell_type": "code",
   "execution_count": null,
   "id": "a33562f6-b876-404c-8c8a-102eba99c50a",
   "metadata": {},
   "outputs": [],
   "source": []
  }
 ],
 "metadata": {
  "kernelspec": {
   "display_name": "Python 3",
   "language": "python",
   "name": "python3"
  },
  "language_info": {
   "codemirror_mode": {
    "name": "ipython",
    "version": 3
   },
   "file_extension": ".py",
   "mimetype": "text/x-python",
   "name": "python",
   "nbconvert_exporter": "python",
   "pygments_lexer": "ipython3",
   "version": "3.8.8"
  }
 },
 "nbformat": 4,
 "nbformat_minor": 5
}

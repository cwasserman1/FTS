{
 "cells": [
  {
   "cell_type": "code",
   "execution_count": 346,
   "id": "f046dacb-7bdb-4a3a-aaef-d2fe8d9b3a2d",
   "metadata": {},
   "outputs": [],
   "source": [
    "import numpy as np\n",
    "import pandas as pd\n",
    "import yfinance as yf\n",
    "import datetime\n",
    "import matplotlib.pyplot as plt"
   ]
  },
  {
   "cell_type": "code",
   "execution_count": 347,
   "id": "48f59cc0-d851-4fa9-9997-5ac29a776718",
   "metadata": {},
   "outputs": [],
   "source": [
    "class FTS_backtest:\n",
    "    def __init__(self):\n",
    "        self.portfolio = {}\n",
    "        self.start_date = None\n",
    "        self.end_date = None\n",
    "        self.current_date = None\n",
    "        self.invested = False\n",
    "        self.cash = 0\n",
    "        \n",
    "    def add_stock(self,ticker):\n",
    "        \"\"\"adds stock ticker to portfolio\"\"\"\n",
    "        self.portfolio[ticker] = [yf.Ticker(ticker),0] # [Ticker Object, number of shares owned]\n",
    "        \n",
    "    def set_cash(self,cash):\n",
    "        \"\"\"sets curent amount of cash in account\"\"\"\n",
    "        self.cash = cash\n",
    "        \n",
    "    def set_start_date(self,date):\n",
    "        self.start_date = date\n",
    "        self.current_date = date\n",
    "        \n",
    "    def set_end_date(self,date):\n",
    "        self.end_date = date\n",
    "        \n",
    "    def get_basic_data(self,ticker,start_date = None,end_date = None): \n",
    "        \"\"\"returns basic stock data as a pd dataframe\n",
    "           dates must be string in format yyyy-mm-dd\n",
    "           chosen stock must be in portfolio\"\"\"\n",
    "        return self.portfolio[ticker][0].history(start = start_date,end = end_date)\n",
    "    \n",
    "    def calculate_sharpe_ratio(self,ticker, risk_free_rate = 0, start_date = None, end_date = None):\n",
    "        \"\"\"\n",
    "        Returns Sharpe ratio for given stock ticker and dates,\n",
    "        Default Risk free rate is 0\n",
    "        \"\"\"\n",
    "        daily_return = myFTS.get_basic_data('MSFT')['Close'].pct_change(1)\n",
    "        mean_return = abs(daily_return.mean())\n",
    "        std = daily_return.std()\n",
    "        sharpe_ratio = (mean_return-risk_free_rate)/std\n",
    "        return sharpe_ratio*np.sqrt(253)\n",
    "    \n",
    "    def calculate_sortino_ratio(self,ticker, risk_free_rate = 0, start_date = None, end_date = None):\n",
    "        pass\n",
    "    \n",
    "    def set_holdings(self,tickers = [],weights = []):\n",
    "        \"\"\"\n",
    "        Sets current holdings to a certain percentage of portfolio at the current date\n",
    "        tickers and weights are both numpy arrays with each weight signaling pct of portfolio of corresponding ticker\n",
    "        tickers and weights must be the same size\n",
    "        Must not exceed 1\n",
    "        \"\"\"\n",
    "        invested_amount = 0\n",
    "        for i in range(len(tickers)):\n",
    "            cost = (weights[i]*self.cash) \n",
    "            num_shares = cost/self.portfolio[tickers[i]][0].history().T[self.current_date]['Close']\n",
    "            self.portfolio[tickers[i]][1] = num_shares\n",
    "            invested_amount += cost\n",
    "        self.cash-=invested_amount\n",
    "        \n",
    "        for j in range(len(tickers)):\n",
    "            print(f\"bought {self.portfolio[tickers[j]][1]} of {tickers[j]} at {self.portfolio[tickers[j]][0].history().T[self.current_date]['Close']}\")\n",
    "    def price_at_date(self,ticker,time,date):\n",
    "        \"\"\"\n",
    "        Returns price of stock at a particular trading time('Open','Close') on a specific date\n",
    "        \"\"\"\n",
    "        return self.portfolio[ticker][0].history().T[date][time]\n",
    "    def liquidate_holdings(self,tickets = []):\n",
    "        \"\"\"\n",
    "        Takes a list of tickets and liquidates them at the current date\n",
    "        \"\"\"\n",
    "        for i in tickets:\n",
    "            self.cash+=self.portfolio[i][1]*self.price_at_date(i,'Close',self.current_date)\n",
    "            self.portfolio[i][1] = 0"
   ]
  },
  {
   "cell_type": "code",
   "execution_count": 348,
   "id": "5b028cc3-c8ba-4876-ba88-94a24cfc4538",
   "metadata": {},
   "outputs": [],
   "source": [
    "myFTS = FTS_backtest()"
   ]
  },
  {
   "cell_type": "code",
   "execution_count": 334,
   "id": "f2161aed-4daf-437f-a2a6-786519973c76",
   "metadata": {},
   "outputs": [],
   "source": [
    "#EXAMPLE TESTING CODE\n",
    "myFTS.add_stock('MSFT') #Adds MSFT to portfolio\n",
    "myFTS.add_stock('GOOG') #Adds GOOG to portfolio\n",
    "myFTS.set_cash(10000) #Sets available cash to 10000\n",
    "myFTS.set_start_date('2010-12-15') #Sets start date of algorithm to December 15, 2010\n",
    "myFTS.set_end_date('2020-12-15')"
   ]
  }
 ],
 "metadata": {
  "kernelspec": {
   "display_name": "Python 3",
   "language": "python",
   "name": "python3"
  },
  "language_info": {
   "codemirror_mode": {
    "name": "ipython",
    "version": 3
   },
   "file_extension": ".py",
   "mimetype": "text/x-python",
   "name": "python",
   "nbconvert_exporter": "python",
   "pygments_lexer": "ipython3",
   "version": "3.8.8"
  }
 },
 "nbformat": 4,
 "nbformat_minor": 5
}
